{
 "cells": [
  {
   "cell_type": "markdown",
   "id": "68e1ade4-2e45-49fc-80e7-e663b06b158f",
   "metadata": {},
   "source": [
    "# Link Prediction"
   ]
  },
  {
   "cell_type": "markdown",
   "id": "963968be-32ff-440c-9e86-31cb6f5fd1c7",
   "metadata": {},
   "source": [
    "## Literatur\n",
    "\n",
    "https://link.springer.com/content/pdf/10.1007/s10462-017-9590-2.pdf?pdf=button\n",
    "\n",
    "http://www.cs.cornell.edu/home/kleinber/link-pred.pdf"
   ]
  },
  {
   "attachments": {},
   "cell_type": "markdown",
   "id": "e4625725-de6b-44d5-8066-d271d0d225d3",
   "metadata": {},
   "source": [
    "## Was ist Link Prediction in sozialen Netzwerken?\n",
    "\n",
    "\n",
    "Link Prediction ist eines der wichtigsten Forschungsthemen im Bereich Graphen und Netzwerke. Das Ziel der Link Prediction ist es, Paare von Knoten zu identifizieren, die in Zukunft eine Verbindung bilden oder nicht. Die Link Prediction ist in realen Anwendungen sehr nützlich."
   ]
  },
  {
   "cell_type": "markdown",
   "id": "e7f33816-92e1-4906-a289-7d7ea78e1fa9",
   "metadata": {},
   "source": [
    "## Was ist der Unterschied zwischen Missing Link und Future Link Prediction?\n",
    "\n",
    "..."
   ]
  },
  {
   "attachments": {},
   "cell_type": "markdown",
   "id": "7859d6fe-d1c7-4ad2-b98b-d955f284627d",
   "metadata": {},
   "source": [
    "## Was sind typische Anwendungen von Link Prediction?\n",
    "\n",
    "Ein paar Anwendungsfälle der Link Prediction:\n",
    "- Vorhersagen, welche Kunden wahrscheinlich welche Produkte auf Online-Marktplätzen kaufen werden\n",
    "- Interaktionen oder Kooperationen zwischen Mitarbeitern in einer Organisation vorschlagen"
   ]
  },
  {
   "cell_type": "markdown",
   "id": "67ff2e9f-fc19-44cf-adde-2aa9ec1f0542",
   "metadata": {},
   "source": [
    "## Vergleich verschiedener Link Prediction Algorithmen"
   ]
  },
  {
   "cell_type": "markdown",
   "id": "a8a4bbf2-4a2e-470e-a1c4-2a16b9190728",
   "metadata": {},
   "source": [
    "### 1. Lesen der Daten\n",
    "\n",
    "Der Datensatz ist ein Kontaknetzwerk von Personal in einem Bürogebäude in Frankreich aus dem Jahr 2015. Über Sensoren wurden persönliche Kontakte gemessen. Eine Kante bedeutet, dass sich zwei Personen mindestens 20 Sekunden in einem engen Radius aufgehalten haben. Die Kanten haben auch ein Gewicht, dass der Kontaktzeit $[t-20, t]$ in Sekunden entspricht.\n",
    "\n",
    "Für weitere Informationen siehe: http://www.sociopatterns.org/datasets/test/"
   ]
  },
  {
   "cell_type": "code",
   "execution_count": 2,
   "id": "19b35998-d211-467e-9523-4a243c6c2585",
   "metadata": {},
   "outputs": [
    {
     "data": {
      "text/html": [
       "<div>\n",
       "<style scoped>\n",
       "    .dataframe tbody tr th:only-of-type {\n",
       "        vertical-align: middle;\n",
       "    }\n",
       "\n",
       "    .dataframe tbody tr th {\n",
       "        vertical-align: top;\n",
       "    }\n",
       "\n",
       "    .dataframe thead th {\n",
       "        text-align: right;\n",
       "    }\n",
       "</style>\n",
       "<table border=\"1\" class=\"dataframe\">\n",
       "  <thead>\n",
       "    <tr style=\"text-align: right;\">\n",
       "      <th></th>\n",
       "      <th>time</th>\n",
       "      <th>source</th>\n",
       "      <th>target</th>\n",
       "    </tr>\n",
       "  </thead>\n",
       "  <tbody>\n",
       "    <tr>\n",
       "      <th>0</th>\n",
       "      <td>28840</td>\n",
       "      <td>574</td>\n",
       "      <td>1362</td>\n",
       "    </tr>\n",
       "    <tr>\n",
       "      <th>1</th>\n",
       "      <td>28840</td>\n",
       "      <td>164</td>\n",
       "      <td>779</td>\n",
       "    </tr>\n",
       "    <tr>\n",
       "      <th>2</th>\n",
       "      <td>28860</td>\n",
       "      <td>447</td>\n",
       "      <td>763</td>\n",
       "    </tr>\n",
       "    <tr>\n",
       "      <th>3</th>\n",
       "      <td>28860</td>\n",
       "      <td>117</td>\n",
       "      <td>429</td>\n",
       "    </tr>\n",
       "    <tr>\n",
       "      <th>4</th>\n",
       "      <td>28880</td>\n",
       "      <td>447</td>\n",
       "      <td>763</td>\n",
       "    </tr>\n",
       "  </tbody>\n",
       "</table>\n",
       "</div>"
      ],
      "text/plain": [
       "    time  source  target\n",
       "0  28840     574    1362\n",
       "1  28840     164     779\n",
       "2  28860     447     763\n",
       "3  28860     117     429\n",
       "4  28880     447     763"
      ]
     },
     "execution_count": 2,
     "metadata": {},
     "output_type": "execute_result"
    }
   ],
   "source": [
    "import networkx as nx\n",
    "import pandas as pd\n",
    "\n",
    "edges = pd.read_table('office_workers.dat', sep=' ', header=None, names=['time', 'source', 'target'])\n",
    "edges.head()"
   ]
  },
  {
   "cell_type": "code",
   "execution_count": 3,
   "id": "21c50b93-3b80-4c6d-a712-4ddea98cd9b1",
   "metadata": {},
   "outputs": [
    {
     "name": "stdout",
     "output_type": "stream",
     "text": [
      "Nodes: 0217\n",
      "Edges: 4274\n"
     ]
    }
   ],
   "source": [
    "g = nx.from_pandas_edgelist(edges, edge_attr='time')\n",
    "print(f\"Nodes: {g.number_of_nodes():04d}\")\n",
    "print(f\"Edges: {g.number_of_edges()}\")"
   ]
  },
  {
   "cell_type": "markdown",
   "id": "f655bb2d-7d7a-42f2-b208-39305ed1a02a",
   "metadata": {},
   "source": [
    "### 2. Anwendung von Link Prediction Algorithmen \n",
    "\n",
    "Wenden Sie die in NetworkX implementierten Link Prediction Algorithmen an. Diese berechnen für jedes nicht durch eine Kante verbundene Knotenpaar einen Score, der die \n",
    "\n",
    "1. Beschreiben Sie zunächst grob für jede Methode wie die Scores für Knotenpaare berechnet werden.\n",
    "2. Löschen Sie zufällig jeweils 1%, 3%, 5% und 10% der Kanten. Daraus entstehen 4 neue Netzwerke $n1, n2, n3, n4$.\n",
    "3. Berechnen Sie für $n1$ bis $n4$ eine Rangliste aus den Scores für fehlende Kanten mit jeder der Methoden.\n",
    "4. Vergleichen Sie die angewendeten Methoden anhand des Ranges, der für die zuvor gelöschten Kannten berechnet wurde und stellen Sie das Ergebnis als Tabelle und/oder Diagramm da."
   ]
  },
  {
   "attachments": {},
   "cell_type": "markdown",
   "id": "d97adb31",
   "metadata": {},
   "source": [
    "#### 2.1 Beschreibung der Methoden\n",
    "Für die Aufgabe sollen die Link Prediction Algorithmen verwendet werden, die im Modul `algorithms.link_prediction` der NetworkX library vorhanden sind.\n",
    "\n",
    "Definitionen:\n",
    "- $N$ ist die Anzahl an Konten im Graph\n",
    "- $d(u,v)$ ist die kürzeste Distanz zwischen $u$ und $v$\n",
    "- $\\Gamma(k) = \\{l | l\\text{ ist direkter Nachbar von }k\\}$\n",
    "- $$f_{u,v}(w) = \\begin{cases} 1 \\text{ wenn $w$ zu den gleichen Communities wie $u$ und $v$ gehört} \\\\ 0 \\text{ sonst} \\end{cases}$$\n",
    "\n",
    "Das sind:\n",
    "\n",
    "- **R**esource **A**llocation **I**ndex\n",
    "  - Der RAI von $u$ und $v$ ist definiert als:\n",
    "      $$rai(u,v) = \\sum_{w \\in \\Gamma(u) \\cap \\Gamma(v)} \\frac{1}{|\\Gamma(w)|}\\$$\n",
    "- **J**accard **C**oefficient\n",
    "  - Der JC von $u$ und $v$ ist definiert als:\n",
    "      $$jc(u,v) = \\frac{|\\Gamma(u) \\cap \\Gamma(v)|}{|\\Gamma(u) \\cup \\Gamma(v)|}$$\n",
    "- **A**damic-**A**dar **I**ndex\n",
    "  - Der AAI von $u$ und $v$ ist definiert als:\n",
    "      $$aai(u,v) = \\sum_{w \\in \\Gamma(u) \\cap \\Gamma(v)} \\frac{1}{\\log |\\Gamma(w)|}$$\n",
    "  - Dieser Index führt zur Division durch Null für Knoten, die nur über Selbstschleifen verbunden sind bzw. nur sich selbst als Nachbarn haben.\n",
    "- Preferential Attachment\n",
    "  - Der PA-Score von $u$ und $v$ ist definiert als:\n",
    "      $$pa(u,v) = |\\Gamma(u)|\\cdot|\\Gamma(v)|$$\n",
    "- **C**ommoin **N**eghbor von **S**oundarajan und **H**opcroft\n",
    "    - Für zwei Knoten $u$ und $v$ berechnet diese Funktion die Anzahl der gemeinsame Nachbarn und einen Bonus für jeden gemeinsamen Nachbarn $w$, der zu der gleichen Community wie $u$ und $v$ gehört.\n",
    "    - Der CNSH-Score von $u$ und $v$ ist definiert als:\n",
    "      $$cnsh(u,v) = |\\Gamma(u) \\cap \\Gamma(v)| + \\sum_{w \\in \\Gamma(u) \\cap \\Gamma(v)} f_{u,v}(w)$$\n",
    "- **R**esource **A**llocation **I**ndex von **S**oundarajan und **H**opcroft\n",
    "  - Für zwei Knoten $u$ und $v$ berechnet diese Funktion den Resource\n",
    "    Allocation Index, unter der Berücksichtigung dass alle gemeinsamen Nachbarn zu den gleichen Communities wie $u$ und $v$ zählen.\n",
    "  - Der RAISH von $u$ und $v$ ist definiert als:\n",
    "      $$raish(u,v) = \\sum_{w \\in \\Gamma(u) \\cap \\Gamma(v)} \\frac{f_{u,v}(w)}{|\\Gamma(w)|}$$\n",
    "- **W**ithin- and **I**nter-**C**luster **C**ommon **N**eighbors\n",
    "  - Für zwei Knoten $u$ und $v$: Wenn ein gemeinsamer Nachbar $w$ zur selben Community wie $u$ und $v$ gehört, wird $w$ als \"within-cluster common neighbor\" ($WCCN$) von $u$ und $v$. Andernfalls gilt $w$ als \"inter-cluster common neighbor\" ($ICCN$) von $u$ und $v$.\n",
    "    - Der WICCN-Score von $u$ und $v$ mit Parameter $\\alpha$ ist definiert als:\n",
    "      $$wicnn(u,v) = \\frac{WCCN}{ICCN}$$\n",
    "- **C**ommoin **N**eghbor **C**entrality\n",
    "  - Dieser Algorithmus basiert auf zwei wesentlichen Eigenschaften von Knoten, nämlich der Anzahl der gemeinsamen Nachbarn und ihrer Zentralität. Gemeinsamer Nachbar bezieht sich auf den gemeinsamen Knoten zwischen zwei Knoten. Zentralität bezieht sich auf das Prestige, das ein Knoten genießt in einem Netzwerk.\n",
    "  - Der CNC-Score von $u$ und $v$ mit Parameter $\\alpha$ ist definiert als:\n",
    "      $$cnc_{\\alpha}(u,v) = \\alpha \\cdot (|\\Gamma (u){\\cap }^{}\\Gamma (v)|)+(1-\\alpha )\\cdot \\frac{N}{d(u,v)}$$"
   ]
  },
  {
   "attachments": {},
   "cell_type": "markdown",
   "id": "805ab507",
   "metadata": {},
   "source": [
    "#### 2.2 Zufälliges Löschen von Kanten"
   ]
  },
  {
   "cell_type": "code",
   "execution_count": 6,
   "id": "eed3b81e",
   "metadata": {},
   "outputs": [
    {
     "name": "stdout",
     "output_type": "stream",
     "text": [
      "Edges in graph n1: 4232 (removed 42 edges)\n",
      "Edges in graph n2: 4146 (removed 128 edges)\n",
      "Edges in graph n3: 4061 (removed 213 edges)\n",
      "Edges in graph n4: 3847 (removed 427 edges)\n"
     ]
    }
   ],
   "source": [
    "import random\n",
    "\n",
    "percentages = [0.01, 0.03, 0.05, 0.1]\n",
    "reduced_graphs = []\n",
    "removed_edges = []\n",
    "\n",
    "for p in percentages:\n",
    "    to_remove = random.sample(list(g.edges()), k=int(g.number_of_edges() * p))\n",
    "    removed_edges.append(to_remove)\n",
    "    tmp = g.copy()\n",
    "    tmp.remove_edges_from(to_remove)\n",
    "    reduced_graphs.append(tmp)\n",
    "\n",
    "for i, rg in enumerate(reduced_graphs):\n",
    "    print(f\"Edges in graph n{i+1}: {rg.number_of_edges()} (removed {len(removed_edges[i]):03d} edges)\")\n"
   ]
  },
  {
   "attachments": {},
   "cell_type": "markdown",
   "id": "d0af8483",
   "metadata": {},
   "source": [
    "#### 2.3 Anwenden der Methoden auf auf $n1$ bis $n4$"
   ]
  },
  {
   "cell_type": "code",
   "execution_count": 5,
   "id": "6894f415",
   "metadata": {},
   "outputs": [],
   "source": [
    "# Berechnen Sie für $n1$ bis $n4$ eine Rangliste aus den Scores für fehlende Kanten mit jeder der Methoden."
   ]
  },
  {
   "cell_type": "markdown",
   "id": "caf79327-bef5-46d0-b839-b0b414d17204",
   "metadata": {},
   "source": [
    "### 3. Auswertung\n",
    "\n",
    "- Gibt es eine Methode, die generell am besten funktioniert?\n",
    "- Können Sie Vor- und Nachteile der angewendeten Methoden benennen?"
   ]
  },
  {
   "cell_type": "markdown",
   "id": "2de50437-60d8-41cb-a567-89f1ed3cecf4",
   "metadata": {},
   "source": [
    "## 4. Zusatzaufgabe\n",
    "\n",
    "Wiederholen Sie die obige Auswertung für weitere Netzwerke, z.B. aus dem SocioPatterns Katalog.\n",
    "\n",
    "http://www.sociopatterns.org/datasets/"
   ]
  },
  {
   "cell_type": "code",
   "execution_count": null,
   "id": "a3ee5e46-f9f8-4bbc-a352-bc3e328dda7a",
   "metadata": {},
   "outputs": [],
   "source": []
  }
 ],
 "metadata": {
  "kernelspec": {
   "display_name": "Python 3",
   "language": "python",
   "name": "python3"
  },
  "language_info": {
   "codemirror_mode": {
    "name": "ipython",
    "version": 3
   },
   "file_extension": ".py",
   "mimetype": "text/x-python",
   "name": "python",
   "nbconvert_exporter": "python",
   "pygments_lexer": "ipython3",
   "version": "3.10.9"
  },
  "vscode": {
   "interpreter": {
    "hash": "e7370f93d1d0cde622a1f8e1c04877d8463912d04d973331ad4851f04de6915a"
   }
  }
 },
 "nbformat": 4,
 "nbformat_minor": 5
}
